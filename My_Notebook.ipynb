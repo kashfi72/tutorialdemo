{
 "cells": [
  {
   "cell_type": "code",
   "execution_count": 1,
   "id": "658b81b6-ec9c-4b85-88e4-4777fcf6f0e9",
   "metadata": {},
   "outputs": [
    {
     "data": {
      "text/plain": [
       "2"
      ]
     },
     "execution_count": 1,
     "metadata": {},
     "output_type": "execute_result"
    }
   ],
   "source": [
    "1+1\n"
   ]
  },
  {
   "cell_type": "markdown",
   "id": "a4239bda-6bad-4e0e-8699-b6e4055c2e4b",
   "metadata": {},
   "source": [
    "This is the code for checking whether the number is greater than 5 or not"
   ]
  },
  {
   "cell_type": "code",
   "execution_count": 2,
   "id": "e9f4b65d-17a6-48ba-b5c5-49bc734c455a",
   "metadata": {},
   "outputs": [
    {
     "name": "stdin",
     "output_type": "stream",
     "text": [
      "Enter your number: 10\n"
     ]
    },
    {
     "name": "stdout",
     "output_type": "stream",
     "text": [
      "Greater\n"
     ]
    }
   ],
   "source": [
    "#this is the code for checking whether the number is greater than 5 or not.\n",
    "a=int(input(\"Enter your number:\"))\n",
    "if a>5:\n",
    "    print(\"Greater\")\n",
    "elif a==5:\n",
    "    print(\"Equal\")\n",
    "else:\n",
    "    print(\"Smaller\")\n"
   ]
  },
  {
   "cell_type": "code",
   "execution_count": null,
   "id": "712df8ca-42cd-408b-80ea-fc23cf54d186",
   "metadata": {},
   "outputs": [],
   "source": []
  }
 ],
 "metadata": {
  "kernelspec": {
   "display_name": "Python 3",
   "language": "python",
   "name": "python3"
  },
  "language_info": {
   "codemirror_mode": {
    "name": "ipython",
    "version": 3
   },
   "file_extension": ".py",
   "mimetype": "text/x-python",
   "name": "python",
   "nbconvert_exporter": "python",
   "pygments_lexer": "ipython3",
   "version": "3.7.8"
  }
 },
 "nbformat": 4,
 "nbformat_minor": 5
}
